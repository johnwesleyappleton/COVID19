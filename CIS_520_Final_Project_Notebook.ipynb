{
  "nbformat": 4,
  "nbformat_minor": 0,
  "metadata": {
    "colab": {
      "provenance": [],
      "toc_visible": true
    },
    "kernelspec": {
      "name": "python3",
      "display_name": "Python 3"
    },
    "language_info": {
      "name": "python"
    }
  },
  "cells": [
    {
      "cell_type": "markdown",
      "source": [
        "# Predicting COVID-19 Cases From County Health Data\n",
        "\n",
        "*Author: John-Wesley Appleton*"
      ],
      "metadata": {
        "id": "6CDBVPFIl_js"
      }
    },
    {
      "cell_type": "markdown",
      "source": [
        "# Introduction"
      ],
      "metadata": {
        "id": "FoPupVM8nxBG"
      }
    },
    {
      "cell_type": "markdown",
      "source": [
        "An accurate count of new daily cases of COVID-19 is important for resource allocation and policy\n",
        "making at the county, state, and federal levels. We seek to provide an accurate prediction of new daily cases of COVID-19 at the county-level for those counties which do not have the resources nor the facilities to test and report the actual number of new daily cases.\n",
        "\n",
        "\n",
        "We will attempt to predict the daily increase in COVID-19 cases in American counties by using:\n",
        "1. [A New York Times dataset of county-level COVID-19 cases and deaths](https://github.com/nytimes/covid-19-data)\n",
        "2. [A County Health Rankings and Roadmaps dataset of measurements of county-level health factors](https://www.countyhealthrankings.org/explore-health-rankings/rankings-data-documentation)"
      ],
      "metadata": {
        "id": "nZDNFY8qmF6C"
      }
    },
    {
      "cell_type": "markdown",
      "source": [
        "# Import Libraries and Data\n",
        "\n",
        "Let's begin by importing the libaries we'll be using."
      ],
      "metadata": {
        "id": "EWAgi-0tn392"
      }
    },
    {
      "cell_type": "code",
      "source": [
        "# make imports\n",
        "import numpy as np\n",
        "import pandas as pd\n",
        "import matplotlib.pyplot as plt\n",
        "\n",
        "from sklearn.model_selection import train_test_split\n",
        "from sklearn.linear_model import Ridge\n",
        "from sklearn.metrics import mean_absolute_error\n",
        "\n",
        "from google.colab import drive"
      ],
      "metadata": {
        "id": "Jaxwu7LRnKcO"
      },
      "execution_count": null,
      "outputs": []
    },
    {
      "cell_type": "markdown",
      "source": [
        "Let's mount our Google Drive so that we can access our data."
      ],
      "metadata": {
        "id": "L1nuSwsSoP0m"
      }
    },
    {
      "cell_type": "code",
      "source": [
        "# mount to drive\n",
        "prefix = '/content/drive'\n",
        "from google.colab import drive\n",
        "drive.mount(prefix)"
      ],
      "metadata": {
        "colab": {
          "base_uri": "https://localhost:8080/"
        },
        "id": "kcPkLqTaoXCP",
        "outputId": "eec210e9-e1e0-430b-9e91-2e20a601eff6"
      },
      "execution_count": null,
      "outputs": [
        {
          "output_type": "stream",
          "name": "stdout",
          "text": [
            "Mounted at /content/drive\n"
          ]
        }
      ]
    },
    {
      "cell_type": "markdown",
      "source": [
        "We can now import our datasets."
      ],
      "metadata": {
        "id": "lpw1dKSKodtX"
      }
    },
    {
      "cell_type": "code",
      "source": [
        "# create path to csv files\n",
        "covid_path = '/content/drive/My Drive/CIS_520_Final_Project/us-counties-2020.csv'\n",
        "county_health_path = '/content/drive/My Drive/CIS_520_Final_Project/county-health-rankings-data-2020.csv'"
      ],
      "metadata": {
        "id": "_K-TDSqxox-P"
      },
      "execution_count": null,
      "outputs": []
    },
    {
      "cell_type": "code",
      "source": [
        "# read csv files\n",
        "covid_df = pd.read_csv(covid_path)\n",
        "county_health_df = pd.read_csv(county_health_path, skiprows=[1])"
      ],
      "metadata": {
        "id": "6DtnqMmbooIn"
      },
      "execution_count": null,
      "outputs": []
    },
    {
      "cell_type": "markdown",
      "source": [
        "Let's take a look at our first dataset: the New York Times COVID-19 data. Let's see how much data we have and how the first 5 rows look."
      ],
      "metadata": {
        "id": "Re5vLP0no5pv"
      }
    },
    {
      "cell_type": "code",
      "source": [
        "# view covid df\n",
        "print(covid_df.shape)\n",
        "covid_df.head()"
      ],
      "metadata": {
        "colab": {
          "base_uri": "https://localhost:8080/",
          "height": 224
        },
        "id": "bhOhotPRo3i3",
        "outputId": "0bbc5f3f-b379-4ea2-cbc0-c283c5d445f9"
      },
      "execution_count": null,
      "outputs": [
        {
          "output_type": "stream",
          "name": "stdout",
          "text": [
            "(884737, 6)\n"
          ]
        },
        {
          "output_type": "execute_result",
          "data": {
            "text/plain": [
              "         date     county       state     fips  cases  deaths\n",
              "0  2020-01-21  Snohomish  Washington  53061.0      1     0.0\n",
              "1  2020-01-22  Snohomish  Washington  53061.0      1     0.0\n",
              "2  2020-01-23  Snohomish  Washington  53061.0      1     0.0\n",
              "3  2020-01-24       Cook    Illinois  17031.0      1     0.0\n",
              "4  2020-01-24  Snohomish  Washington  53061.0      1     0.0"
            ],
            "text/html": [
              "\n",
              "  <div id=\"df-053db76e-f8ff-4e94-a9a6-2c1a217c41f1\">\n",
              "    <div class=\"colab-df-container\">\n",
              "      <div>\n",
              "<style scoped>\n",
              "    .dataframe tbody tr th:only-of-type {\n",
              "        vertical-align: middle;\n",
              "    }\n",
              "\n",
              "    .dataframe tbody tr th {\n",
              "        vertical-align: top;\n",
              "    }\n",
              "\n",
              "    .dataframe thead th {\n",
              "        text-align: right;\n",
              "    }\n",
              "</style>\n",
              "<table border=\"1\" class=\"dataframe\">\n",
              "  <thead>\n",
              "    <tr style=\"text-align: right;\">\n",
              "      <th></th>\n",
              "      <th>date</th>\n",
              "      <th>county</th>\n",
              "      <th>state</th>\n",
              "      <th>fips</th>\n",
              "      <th>cases</th>\n",
              "      <th>deaths</th>\n",
              "    </tr>\n",
              "  </thead>\n",
              "  <tbody>\n",
              "    <tr>\n",
              "      <th>0</th>\n",
              "      <td>2020-01-21</td>\n",
              "      <td>Snohomish</td>\n",
              "      <td>Washington</td>\n",
              "      <td>53061.0</td>\n",
              "      <td>1</td>\n",
              "      <td>0.0</td>\n",
              "    </tr>\n",
              "    <tr>\n",
              "      <th>1</th>\n",
              "      <td>2020-01-22</td>\n",
              "      <td>Snohomish</td>\n",
              "      <td>Washington</td>\n",
              "      <td>53061.0</td>\n",
              "      <td>1</td>\n",
              "      <td>0.0</td>\n",
              "    </tr>\n",
              "    <tr>\n",
              "      <th>2</th>\n",
              "      <td>2020-01-23</td>\n",
              "      <td>Snohomish</td>\n",
              "      <td>Washington</td>\n",
              "      <td>53061.0</td>\n",
              "      <td>1</td>\n",
              "      <td>0.0</td>\n",
              "    </tr>\n",
              "    <tr>\n",
              "      <th>3</th>\n",
              "      <td>2020-01-24</td>\n",
              "      <td>Cook</td>\n",
              "      <td>Illinois</td>\n",
              "      <td>17031.0</td>\n",
              "      <td>1</td>\n",
              "      <td>0.0</td>\n",
              "    </tr>\n",
              "    <tr>\n",
              "      <th>4</th>\n",
              "      <td>2020-01-24</td>\n",
              "      <td>Snohomish</td>\n",
              "      <td>Washington</td>\n",
              "      <td>53061.0</td>\n",
              "      <td>1</td>\n",
              "      <td>0.0</td>\n",
              "    </tr>\n",
              "  </tbody>\n",
              "</table>\n",
              "</div>\n",
              "      <button class=\"colab-df-convert\" onclick=\"convertToInteractive('df-053db76e-f8ff-4e94-a9a6-2c1a217c41f1')\"\n",
              "              title=\"Convert this dataframe to an interactive table.\"\n",
              "              style=\"display:none;\">\n",
              "        \n",
              "  <svg xmlns=\"http://www.w3.org/2000/svg\" height=\"24px\"viewBox=\"0 0 24 24\"\n",
              "       width=\"24px\">\n",
              "    <path d=\"M0 0h24v24H0V0z\" fill=\"none\"/>\n",
              "    <path d=\"M18.56 5.44l.94 2.06.94-2.06 2.06-.94-2.06-.94-.94-2.06-.94 2.06-2.06.94zm-11 1L8.5 8.5l.94-2.06 2.06-.94-2.06-.94L8.5 2.5l-.94 2.06-2.06.94zm10 10l.94 2.06.94-2.06 2.06-.94-2.06-.94-.94-2.06-.94 2.06-2.06.94z\"/><path d=\"M17.41 7.96l-1.37-1.37c-.4-.4-.92-.59-1.43-.59-.52 0-1.04.2-1.43.59L10.3 9.45l-7.72 7.72c-.78.78-.78 2.05 0 2.83L4 21.41c.39.39.9.59 1.41.59.51 0 1.02-.2 1.41-.59l7.78-7.78 2.81-2.81c.8-.78.8-2.07 0-2.86zM5.41 20L4 18.59l7.72-7.72 1.47 1.35L5.41 20z\"/>\n",
              "  </svg>\n",
              "      </button>\n",
              "      \n",
              "  <style>\n",
              "    .colab-df-container {\n",
              "      display:flex;\n",
              "      flex-wrap:wrap;\n",
              "      gap: 12px;\n",
              "    }\n",
              "\n",
              "    .colab-df-convert {\n",
              "      background-color: #E8F0FE;\n",
              "      border: none;\n",
              "      border-radius: 50%;\n",
              "      cursor: pointer;\n",
              "      display: none;\n",
              "      fill: #1967D2;\n",
              "      height: 32px;\n",
              "      padding: 0 0 0 0;\n",
              "      width: 32px;\n",
              "    }\n",
              "\n",
              "    .colab-df-convert:hover {\n",
              "      background-color: #E2EBFA;\n",
              "      box-shadow: 0px 1px 2px rgba(60, 64, 67, 0.3), 0px 1px 3px 1px rgba(60, 64, 67, 0.15);\n",
              "      fill: #174EA6;\n",
              "    }\n",
              "\n",
              "    [theme=dark] .colab-df-convert {\n",
              "      background-color: #3B4455;\n",
              "      fill: #D2E3FC;\n",
              "    }\n",
              "\n",
              "    [theme=dark] .colab-df-convert:hover {\n",
              "      background-color: #434B5C;\n",
              "      box-shadow: 0px 1px 3px 1px rgba(0, 0, 0, 0.15);\n",
              "      filter: drop-shadow(0px 1px 2px rgba(0, 0, 0, 0.3));\n",
              "      fill: #FFFFFF;\n",
              "    }\n",
              "  </style>\n",
              "\n",
              "      <script>\n",
              "        const buttonEl =\n",
              "          document.querySelector('#df-053db76e-f8ff-4e94-a9a6-2c1a217c41f1 button.colab-df-convert');\n",
              "        buttonEl.style.display =\n",
              "          google.colab.kernel.accessAllowed ? 'block' : 'none';\n",
              "\n",
              "        async function convertToInteractive(key) {\n",
              "          const element = document.querySelector('#df-053db76e-f8ff-4e94-a9a6-2c1a217c41f1');\n",
              "          const dataTable =\n",
              "            await google.colab.kernel.invokeFunction('convertToInteractive',\n",
              "                                                     [key], {});\n",
              "          if (!dataTable) return;\n",
              "\n",
              "          const docLinkHtml = 'Like what you see? Visit the ' +\n",
              "            '<a target=\"_blank\" href=https://colab.research.google.com/notebooks/data_table.ipynb>data table notebook</a>'\n",
              "            + ' to learn more about interactive tables.';\n",
              "          element.innerHTML = '';\n",
              "          dataTable['output_type'] = 'display_data';\n",
              "          await google.colab.output.renderOutput(dataTable, element);\n",
              "          const docLink = document.createElement('div');\n",
              "          docLink.innerHTML = docLinkHtml;\n",
              "          element.appendChild(docLink);\n",
              "        }\n",
              "      </script>\n",
              "    </div>\n",
              "  </div>\n",
              "  "
            ]
          },
          "metadata": {},
          "execution_count": 5
        }
      ]
    },
    {
      "cell_type": "markdown",
      "source": [
        "Great! Now let's do the same with the County Health Rankings and Roadmaps Dataset."
      ],
      "metadata": {
        "id": "VdxBioHUpSTv"
      }
    },
    {
      "cell_type": "code",
      "source": [
        "# view county health df\n",
        "print(county_health_df.shape)\n",
        "county_health_df.head()"
      ],
      "metadata": {
        "colab": {
          "base_uri": "https://localhost:8080/",
          "height": 438
        },
        "id": "3KjimDBape4x",
        "outputId": "5ca35885-406c-4f0f-838f-f65489a57d94"
      },
      "execution_count": null,
      "outputs": [
        {
          "output_type": "stream",
          "name": "stdout",
          "text": [
            "(3194, 786)\n"
          ]
        },
        {
          "output_type": "execute_result",
          "data": {
            "text/plain": [
              "   State FIPS Code  County FIPS Code  5-digit FIPS Code State Abbreviation  \\\n",
              "0                0                 0                  0                 US   \n",
              "1                1                 0               1000                 AL   \n",
              "2                1                 1               1001                 AL   \n",
              "3                1                 3               1003                 AL   \n",
              "4                1                 5               1005                 AL   \n",
              "\n",
              "             Name  Release Year  County Ranked (Yes=1/No=0)  \\\n",
              "0   United States          2020                         NaN   \n",
              "1         Alabama          2020                         NaN   \n",
              "2  Autauga County          2020                         1.0   \n",
              "3  Baldwin County          2020                         1.0   \n",
              "4  Barbour County          2020                         1.0   \n",
              "\n",
              "   Premature death raw value  Premature death numerator  \\\n",
              "0                6940.110519                  3813889.0   \n",
              "1                9942.794666                    81791.0   \n",
              "2                8128.591190                      791.0   \n",
              "3                7354.122530                     2967.0   \n",
              "4               10253.573403                      472.0   \n",
              "\n",
              "   Premature death denominator  ...  Male population 18-44 raw value  \\\n",
              "0                  912286150.0  ...                              NaN   \n",
              "1                   13640424.0  ...                              NaN   \n",
              "2                     155856.0  ...                              NaN   \n",
              "3                     588433.0  ...                              NaN   \n",
              "4                      70435.0  ...                              NaN   \n",
              "\n",
              "   Male population 45-64 raw value  Male population 65+ raw value  \\\n",
              "0                              NaN                            NaN   \n",
              "1                              NaN                            NaN   \n",
              "2                              NaN                            NaN   \n",
              "3                              NaN                            NaN   \n",
              "4                              NaN                            NaN   \n",
              "\n",
              "   Total male population raw value  Female population 0-17 raw value  \\\n",
              "0                              NaN                               NaN   \n",
              "1                              NaN                               NaN   \n",
              "2                              NaN                               NaN   \n",
              "3                              NaN                               NaN   \n",
              "4                              NaN                               NaN   \n",
              "\n",
              "   Female population 18-44 raw value  Female population 45-64 raw value  \\\n",
              "0                                NaN                                NaN   \n",
              "1                                NaN                                NaN   \n",
              "2                                NaN                                NaN   \n",
              "3                                NaN                                NaN   \n",
              "4                                NaN                                NaN   \n",
              "\n",
              "   Female population 65+ raw value  Total female population raw value  \\\n",
              "0                              NaN                                NaN   \n",
              "1                              NaN                                NaN   \n",
              "2                              NaN                                NaN   \n",
              "3                              NaN                                NaN   \n",
              "4                              NaN                                NaN   \n",
              "\n",
              "   Population growth raw value  \n",
              "0                          NaN  \n",
              "1                          NaN  \n",
              "2                          NaN  \n",
              "3                          NaN  \n",
              "4                          NaN  \n",
              "\n",
              "[5 rows x 786 columns]"
            ],
            "text/html": [
              "\n",
              "  <div id=\"df-939a9f40-9d2f-4a2b-8cd3-ea87327ac466\">\n",
              "    <div class=\"colab-df-container\">\n",
              "      <div>\n",
              "<style scoped>\n",
              "    .dataframe tbody tr th:only-of-type {\n",
              "        vertical-align: middle;\n",
              "    }\n",
              "\n",
              "    .dataframe tbody tr th {\n",
              "        vertical-align: top;\n",
              "    }\n",
              "\n",
              "    .dataframe thead th {\n",
              "        text-align: right;\n",
              "    }\n",
              "</style>\n",
              "<table border=\"1\" class=\"dataframe\">\n",
              "  <thead>\n",
              "    <tr style=\"text-align: right;\">\n",
              "      <th></th>\n",
              "      <th>State FIPS Code</th>\n",
              "      <th>County FIPS Code</th>\n",
              "      <th>5-digit FIPS Code</th>\n",
              "      <th>State Abbreviation</th>\n",
              "      <th>Name</th>\n",
              "      <th>Release Year</th>\n",
              "      <th>County Ranked (Yes=1/No=0)</th>\n",
              "      <th>Premature death raw value</th>\n",
              "      <th>Premature death numerator</th>\n",
              "      <th>Premature death denominator</th>\n",
              "      <th>...</th>\n",
              "      <th>Male population 18-44 raw value</th>\n",
              "      <th>Male population 45-64 raw value</th>\n",
              "      <th>Male population 65+ raw value</th>\n",
              "      <th>Total male population raw value</th>\n",
              "      <th>Female population 0-17 raw value</th>\n",
              "      <th>Female population 18-44 raw value</th>\n",
              "      <th>Female population 45-64 raw value</th>\n",
              "      <th>Female population 65+ raw value</th>\n",
              "      <th>Total female population raw value</th>\n",
              "      <th>Population growth raw value</th>\n",
              "    </tr>\n",
              "  </thead>\n",
              "  <tbody>\n",
              "    <tr>\n",
              "      <th>0</th>\n",
              "      <td>0</td>\n",
              "      <td>0</td>\n",
              "      <td>0</td>\n",
              "      <td>US</td>\n",
              "      <td>United States</td>\n",
              "      <td>2020</td>\n",
              "      <td>NaN</td>\n",
              "      <td>6940.110519</td>\n",
              "      <td>3813889.0</td>\n",
              "      <td>912286150.0</td>\n",
              "      <td>...</td>\n",
              "      <td>NaN</td>\n",
              "      <td>NaN</td>\n",
              "      <td>NaN</td>\n",
              "      <td>NaN</td>\n",
              "      <td>NaN</td>\n",
              "      <td>NaN</td>\n",
              "      <td>NaN</td>\n",
              "      <td>NaN</td>\n",
              "      <td>NaN</td>\n",
              "      <td>NaN</td>\n",
              "    </tr>\n",
              "    <tr>\n",
              "      <th>1</th>\n",
              "      <td>1</td>\n",
              "      <td>0</td>\n",
              "      <td>1000</td>\n",
              "      <td>AL</td>\n",
              "      <td>Alabama</td>\n",
              "      <td>2020</td>\n",
              "      <td>NaN</td>\n",
              "      <td>9942.794666</td>\n",
              "      <td>81791.0</td>\n",
              "      <td>13640424.0</td>\n",
              "      <td>...</td>\n",
              "      <td>NaN</td>\n",
              "      <td>NaN</td>\n",
              "      <td>NaN</td>\n",
              "      <td>NaN</td>\n",
              "      <td>NaN</td>\n",
              "      <td>NaN</td>\n",
              "      <td>NaN</td>\n",
              "      <td>NaN</td>\n",
              "      <td>NaN</td>\n",
              "      <td>NaN</td>\n",
              "    </tr>\n",
              "    <tr>\n",
              "      <th>2</th>\n",
              "      <td>1</td>\n",
              "      <td>1</td>\n",
              "      <td>1001</td>\n",
              "      <td>AL</td>\n",
              "      <td>Autauga County</td>\n",
              "      <td>2020</td>\n",
              "      <td>1.0</td>\n",
              "      <td>8128.591190</td>\n",
              "      <td>791.0</td>\n",
              "      <td>155856.0</td>\n",
              "      <td>...</td>\n",
              "      <td>NaN</td>\n",
              "      <td>NaN</td>\n",
              "      <td>NaN</td>\n",
              "      <td>NaN</td>\n",
              "      <td>NaN</td>\n",
              "      <td>NaN</td>\n",
              "      <td>NaN</td>\n",
              "      <td>NaN</td>\n",
              "      <td>NaN</td>\n",
              "      <td>NaN</td>\n",
              "    </tr>\n",
              "    <tr>\n",
              "      <th>3</th>\n",
              "      <td>1</td>\n",
              "      <td>3</td>\n",
              "      <td>1003</td>\n",
              "      <td>AL</td>\n",
              "      <td>Baldwin County</td>\n",
              "      <td>2020</td>\n",
              "      <td>1.0</td>\n",
              "      <td>7354.122530</td>\n",
              "      <td>2967.0</td>\n",
              "      <td>588433.0</td>\n",
              "      <td>...</td>\n",
              "      <td>NaN</td>\n",
              "      <td>NaN</td>\n",
              "      <td>NaN</td>\n",
              "      <td>NaN</td>\n",
              "      <td>NaN</td>\n",
              "      <td>NaN</td>\n",
              "      <td>NaN</td>\n",
              "      <td>NaN</td>\n",
              "      <td>NaN</td>\n",
              "      <td>NaN</td>\n",
              "    </tr>\n",
              "    <tr>\n",
              "      <th>4</th>\n",
              "      <td>1</td>\n",
              "      <td>5</td>\n",
              "      <td>1005</td>\n",
              "      <td>AL</td>\n",
              "      <td>Barbour County</td>\n",
              "      <td>2020</td>\n",
              "      <td>1.0</td>\n",
              "      <td>10253.573403</td>\n",
              "      <td>472.0</td>\n",
              "      <td>70435.0</td>\n",
              "      <td>...</td>\n",
              "      <td>NaN</td>\n",
              "      <td>NaN</td>\n",
              "      <td>NaN</td>\n",
              "      <td>NaN</td>\n",
              "      <td>NaN</td>\n",
              "      <td>NaN</td>\n",
              "      <td>NaN</td>\n",
              "      <td>NaN</td>\n",
              "      <td>NaN</td>\n",
              "      <td>NaN</td>\n",
              "    </tr>\n",
              "  </tbody>\n",
              "</table>\n",
              "<p>5 rows × 786 columns</p>\n",
              "</div>\n",
              "      <button class=\"colab-df-convert\" onclick=\"convertToInteractive('df-939a9f40-9d2f-4a2b-8cd3-ea87327ac466')\"\n",
              "              title=\"Convert this dataframe to an interactive table.\"\n",
              "              style=\"display:none;\">\n",
              "        \n",
              "  <svg xmlns=\"http://www.w3.org/2000/svg\" height=\"24px\"viewBox=\"0 0 24 24\"\n",
              "       width=\"24px\">\n",
              "    <path d=\"M0 0h24v24H0V0z\" fill=\"none\"/>\n",
              "    <path d=\"M18.56 5.44l.94 2.06.94-2.06 2.06-.94-2.06-.94-.94-2.06-.94 2.06-2.06.94zm-11 1L8.5 8.5l.94-2.06 2.06-.94-2.06-.94L8.5 2.5l-.94 2.06-2.06.94zm10 10l.94 2.06.94-2.06 2.06-.94-2.06-.94-.94-2.06-.94 2.06-2.06.94z\"/><path d=\"M17.41 7.96l-1.37-1.37c-.4-.4-.92-.59-1.43-.59-.52 0-1.04.2-1.43.59L10.3 9.45l-7.72 7.72c-.78.78-.78 2.05 0 2.83L4 21.41c.39.39.9.59 1.41.59.51 0 1.02-.2 1.41-.59l7.78-7.78 2.81-2.81c.8-.78.8-2.07 0-2.86zM5.41 20L4 18.59l7.72-7.72 1.47 1.35L5.41 20z\"/>\n",
              "  </svg>\n",
              "      </button>\n",
              "      \n",
              "  <style>\n",
              "    .colab-df-container {\n",
              "      display:flex;\n",
              "      flex-wrap:wrap;\n",
              "      gap: 12px;\n",
              "    }\n",
              "\n",
              "    .colab-df-convert {\n",
              "      background-color: #E8F0FE;\n",
              "      border: none;\n",
              "      border-radius: 50%;\n",
              "      cursor: pointer;\n",
              "      display: none;\n",
              "      fill: #1967D2;\n",
              "      height: 32px;\n",
              "      padding: 0 0 0 0;\n",
              "      width: 32px;\n",
              "    }\n",
              "\n",
              "    .colab-df-convert:hover {\n",
              "      background-color: #E2EBFA;\n",
              "      box-shadow: 0px 1px 2px rgba(60, 64, 67, 0.3), 0px 1px 3px 1px rgba(60, 64, 67, 0.15);\n",
              "      fill: #174EA6;\n",
              "    }\n",
              "\n",
              "    [theme=dark] .colab-df-convert {\n",
              "      background-color: #3B4455;\n",
              "      fill: #D2E3FC;\n",
              "    }\n",
              "\n",
              "    [theme=dark] .colab-df-convert:hover {\n",
              "      background-color: #434B5C;\n",
              "      box-shadow: 0px 1px 3px 1px rgba(0, 0, 0, 0.15);\n",
              "      filter: drop-shadow(0px 1px 2px rgba(0, 0, 0, 0.3));\n",
              "      fill: #FFFFFF;\n",
              "    }\n",
              "  </style>\n",
              "\n",
              "      <script>\n",
              "        const buttonEl =\n",
              "          document.querySelector('#df-939a9f40-9d2f-4a2b-8cd3-ea87327ac466 button.colab-df-convert');\n",
              "        buttonEl.style.display =\n",
              "          google.colab.kernel.accessAllowed ? 'block' : 'none';\n",
              "\n",
              "        async function convertToInteractive(key) {\n",
              "          const element = document.querySelector('#df-939a9f40-9d2f-4a2b-8cd3-ea87327ac466');\n",
              "          const dataTable =\n",
              "            await google.colab.kernel.invokeFunction('convertToInteractive',\n",
              "                                                     [key], {});\n",
              "          if (!dataTable) return;\n",
              "\n",
              "          const docLinkHtml = 'Like what you see? Visit the ' +\n",
              "            '<a target=\"_blank\" href=https://colab.research.google.com/notebooks/data_table.ipynb>data table notebook</a>'\n",
              "            + ' to learn more about interactive tables.';\n",
              "          element.innerHTML = '';\n",
              "          dataTable['output_type'] = 'display_data';\n",
              "          await google.colab.output.renderOutput(dataTable, element);\n",
              "          const docLink = document.createElement('div');\n",
              "          docLink.innerHTML = docLinkHtml;\n",
              "          element.appendChild(docLink);\n",
              "        }\n",
              "      </script>\n",
              "    </div>\n",
              "  </div>\n",
              "  "
            ]
          },
          "metadata": {},
          "execution_count": 6
        }
      ]
    },
    {
      "cell_type": "markdown",
      "source": [
        "Wow! We have a lot of data! There are a couple of problems with these datasets, however:\n",
        "\n",
        "1. The COVID data contains cumulative case counts. We want daily case counts.\n",
        "2. The county health data contains a lot of null values. We don't like those.\n",
        "3. There are a lot of features that we don't want to keep. For example, it doesn't make sense for us to keep the county name as a feature!\n",
        "4. There are some categorical features that we want to keep. We'll need to one-hot encode those ones.\n",
        "\n",
        "This seems like it would be a lot of work! Luckily for you, we already did all these steps so that you don't need to! Let's import this clean dataset."
      ],
      "metadata": {
        "id": "meY7B0UspgTf"
      }
    },
    {
      "cell_type": "code",
      "source": [
        "# create path to partial csv file\n",
        "data_path = '/content/drive/My Drive/CIS_520_Final_Project/partial_data.csv'"
      ],
      "metadata": {
        "id": "lznjMAy8qlkY"
      },
      "execution_count": null,
      "outputs": []
    },
    {
      "cell_type": "code",
      "source": [
        "# read data files\n",
        "data_df = pd.read_csv(data_path)"
      ],
      "metadata": {
        "id": "pTz9qbR-qs7f"
      },
      "execution_count": null,
      "outputs": []
    },
    {
      "cell_type": "markdown",
      "source": [
        "Oh! One more thing... this is only 5% of the dataset! After performing the pre-processing, we had way to much data and so we'll only use 5%.\n",
        "\n",
        "Let's see what it looks like."
      ],
      "metadata": {
        "id": "2u0zjxjOqwt4"
      }
    },
    {
      "cell_type": "code",
      "source": [
        "# view data\n",
        "print(data_df.shape)\n",
        "data_df.head()"
      ],
      "metadata": {
        "colab": {
          "base_uri": "https://localhost:8080/",
          "height": 334
        },
        "id": "lVEZ57hxrGvo",
        "outputId": "d789aae1-1809-44d7-ac09-7ecb5b22938b"
      },
      "execution_count": null,
      "outputs": [
        {
          "output_type": "stream",
          "name": "stdout",
          "text": [
            "(32472, 170)\n"
          ]
        },
        {
          "output_type": "execute_result",
          "data": {
            "text/plain": [
              "   cases_0  cases_1  deaths_1  cases_2  deaths_2  cases_3  deaths_3  cases_4  \\\n",
              "0      0.0      0.0       0.0      0.0       0.0      1.0       0.0      0.0   \n",
              "1      6.0     10.0       0.0     10.0       0.0      9.0       0.0     17.0   \n",
              "2    152.0    149.0       3.0    192.0       6.0    110.0       9.0    113.0   \n",
              "3      0.0      0.0       0.0      0.0       0.0      0.0       0.0      0.0   \n",
              "4      8.0     22.0       0.0     12.0       0.0     12.0       0.0     17.0   \n",
              "\n",
              "   deaths_4  cases_5  ...  ['State Abbreviation']_UT  \\\n",
              "0       0.0      2.0  ...                          0   \n",
              "1       0.0      4.0  ...                          0   \n",
              "2       8.0    122.0  ...                          0   \n",
              "3       0.0      0.0  ...                          0   \n",
              "4       1.0      9.0  ...                          0   \n",
              "\n",
              "   ['State Abbreviation']_VA  ['State Abbreviation']_VT  \\\n",
              "0                          0                          0   \n",
              "1                          0                          0   \n",
              "2                          0                          0   \n",
              "3                          0                          0   \n",
              "4                          0                          0   \n",
              "\n",
              "   ['State Abbreviation']_WA  ['State Abbreviation']_WI  \\\n",
              "0                          0                          0   \n",
              "1                          0                          0   \n",
              "2                          0                          0   \n",
              "3                          0                          0   \n",
              "4                          0                          0   \n",
              "\n",
              "   ['State Abbreviation']_WV  ['State Abbreviation']_WY  \\\n",
              "0                          0                          0   \n",
              "1                          0                          0   \n",
              "2                          0                          0   \n",
              "3                          0                          0   \n",
              "4                          0                          0   \n",
              "\n",
              "   ['Premature death flag (0 = No Flag/1=Unreliable/2=Suppressed)']_0  \\\n",
              "0                                                  1                    \n",
              "1                                                  1                    \n",
              "2                                                  1                    \n",
              "3                                                  1                    \n",
              "4                                                  1                    \n",
              "\n",
              "   ['Premature death flag (0 = No Flag/1=Unreliable/2=Suppressed)']_1  \\\n",
              "0                                                  0                    \n",
              "1                                                  0                    \n",
              "2                                                  0                    \n",
              "3                                                  0                    \n",
              "4                                                  0                    \n",
              "\n",
              "   ['Premature death flag (0 = No Flag/1=Unreliable/2=Suppressed)']_2  \n",
              "0                                                  0                   \n",
              "1                                                  0                   \n",
              "2                                                  0                   \n",
              "3                                                  0                   \n",
              "4                                                  0                   \n",
              "\n",
              "[5 rows x 170 columns]"
            ],
            "text/html": [
              "\n",
              "  <div id=\"df-d4b7cef8-e55c-4f26-ab61-b0b887acec61\">\n",
              "    <div class=\"colab-df-container\">\n",
              "      <div>\n",
              "<style scoped>\n",
              "    .dataframe tbody tr th:only-of-type {\n",
              "        vertical-align: middle;\n",
              "    }\n",
              "\n",
              "    .dataframe tbody tr th {\n",
              "        vertical-align: top;\n",
              "    }\n",
              "\n",
              "    .dataframe thead th {\n",
              "        text-align: right;\n",
              "    }\n",
              "</style>\n",
              "<table border=\"1\" class=\"dataframe\">\n",
              "  <thead>\n",
              "    <tr style=\"text-align: right;\">\n",
              "      <th></th>\n",
              "      <th>cases_0</th>\n",
              "      <th>cases_1</th>\n",
              "      <th>deaths_1</th>\n",
              "      <th>cases_2</th>\n",
              "      <th>deaths_2</th>\n",
              "      <th>cases_3</th>\n",
              "      <th>deaths_3</th>\n",
              "      <th>cases_4</th>\n",
              "      <th>deaths_4</th>\n",
              "      <th>cases_5</th>\n",
              "      <th>...</th>\n",
              "      <th>['State Abbreviation']_UT</th>\n",
              "      <th>['State Abbreviation']_VA</th>\n",
              "      <th>['State Abbreviation']_VT</th>\n",
              "      <th>['State Abbreviation']_WA</th>\n",
              "      <th>['State Abbreviation']_WI</th>\n",
              "      <th>['State Abbreviation']_WV</th>\n",
              "      <th>['State Abbreviation']_WY</th>\n",
              "      <th>['Premature death flag (0 = No Flag/1=Unreliable/2=Suppressed)']_0</th>\n",
              "      <th>['Premature death flag (0 = No Flag/1=Unreliable/2=Suppressed)']_1</th>\n",
              "      <th>['Premature death flag (0 = No Flag/1=Unreliable/2=Suppressed)']_2</th>\n",
              "    </tr>\n",
              "  </thead>\n",
              "  <tbody>\n",
              "    <tr>\n",
              "      <th>0</th>\n",
              "      <td>0.0</td>\n",
              "      <td>0.0</td>\n",
              "      <td>0.0</td>\n",
              "      <td>0.0</td>\n",
              "      <td>0.0</td>\n",
              "      <td>1.0</td>\n",
              "      <td>0.0</td>\n",
              "      <td>0.0</td>\n",
              "      <td>0.0</td>\n",
              "      <td>2.0</td>\n",
              "      <td>...</td>\n",
              "      <td>0</td>\n",
              "      <td>0</td>\n",
              "      <td>0</td>\n",
              "      <td>0</td>\n",
              "      <td>0</td>\n",
              "      <td>0</td>\n",
              "      <td>0</td>\n",
              "      <td>1</td>\n",
              "      <td>0</td>\n",
              "      <td>0</td>\n",
              "    </tr>\n",
              "    <tr>\n",
              "      <th>1</th>\n",
              "      <td>6.0</td>\n",
              "      <td>10.0</td>\n",
              "      <td>0.0</td>\n",
              "      <td>10.0</td>\n",
              "      <td>0.0</td>\n",
              "      <td>9.0</td>\n",
              "      <td>0.0</td>\n",
              "      <td>17.0</td>\n",
              "      <td>0.0</td>\n",
              "      <td>4.0</td>\n",
              "      <td>...</td>\n",
              "      <td>0</td>\n",
              "      <td>0</td>\n",
              "      <td>0</td>\n",
              "      <td>0</td>\n",
              "      <td>0</td>\n",
              "      <td>0</td>\n",
              "      <td>0</td>\n",
              "      <td>1</td>\n",
              "      <td>0</td>\n",
              "      <td>0</td>\n",
              "    </tr>\n",
              "    <tr>\n",
              "      <th>2</th>\n",
              "      <td>152.0</td>\n",
              "      <td>149.0</td>\n",
              "      <td>3.0</td>\n",
              "      <td>192.0</td>\n",
              "      <td>6.0</td>\n",
              "      <td>110.0</td>\n",
              "      <td>9.0</td>\n",
              "      <td>113.0</td>\n",
              "      <td>8.0</td>\n",
              "      <td>122.0</td>\n",
              "      <td>...</td>\n",
              "      <td>0</td>\n",
              "      <td>0</td>\n",
              "      <td>0</td>\n",
              "      <td>0</td>\n",
              "      <td>0</td>\n",
              "      <td>0</td>\n",
              "      <td>0</td>\n",
              "      <td>1</td>\n",
              "      <td>0</td>\n",
              "      <td>0</td>\n",
              "    </tr>\n",
              "    <tr>\n",
              "      <th>3</th>\n",
              "      <td>0.0</td>\n",
              "      <td>0.0</td>\n",
              "      <td>0.0</td>\n",
              "      <td>0.0</td>\n",
              "      <td>0.0</td>\n",
              "      <td>0.0</td>\n",
              "      <td>0.0</td>\n",
              "      <td>0.0</td>\n",
              "      <td>0.0</td>\n",
              "      <td>0.0</td>\n",
              "      <td>...</td>\n",
              "      <td>0</td>\n",
              "      <td>0</td>\n",
              "      <td>0</td>\n",
              "      <td>0</td>\n",
              "      <td>0</td>\n",
              "      <td>0</td>\n",
              "      <td>0</td>\n",
              "      <td>1</td>\n",
              "      <td>0</td>\n",
              "      <td>0</td>\n",
              "    </tr>\n",
              "    <tr>\n",
              "      <th>4</th>\n",
              "      <td>8.0</td>\n",
              "      <td>22.0</td>\n",
              "      <td>0.0</td>\n",
              "      <td>12.0</td>\n",
              "      <td>0.0</td>\n",
              "      <td>12.0</td>\n",
              "      <td>0.0</td>\n",
              "      <td>17.0</td>\n",
              "      <td>1.0</td>\n",
              "      <td>9.0</td>\n",
              "      <td>...</td>\n",
              "      <td>0</td>\n",
              "      <td>0</td>\n",
              "      <td>0</td>\n",
              "      <td>0</td>\n",
              "      <td>0</td>\n",
              "      <td>0</td>\n",
              "      <td>0</td>\n",
              "      <td>1</td>\n",
              "      <td>0</td>\n",
              "      <td>0</td>\n",
              "    </tr>\n",
              "  </tbody>\n",
              "</table>\n",
              "<p>5 rows × 170 columns</p>\n",
              "</div>\n",
              "      <button class=\"colab-df-convert\" onclick=\"convertToInteractive('df-d4b7cef8-e55c-4f26-ab61-b0b887acec61')\"\n",
              "              title=\"Convert this dataframe to an interactive table.\"\n",
              "              style=\"display:none;\">\n",
              "        \n",
              "  <svg xmlns=\"http://www.w3.org/2000/svg\" height=\"24px\"viewBox=\"0 0 24 24\"\n",
              "       width=\"24px\">\n",
              "    <path d=\"M0 0h24v24H0V0z\" fill=\"none\"/>\n",
              "    <path d=\"M18.56 5.44l.94 2.06.94-2.06 2.06-.94-2.06-.94-.94-2.06-.94 2.06-2.06.94zm-11 1L8.5 8.5l.94-2.06 2.06-.94-2.06-.94L8.5 2.5l-.94 2.06-2.06.94zm10 10l.94 2.06.94-2.06 2.06-.94-2.06-.94-.94-2.06-.94 2.06-2.06.94z\"/><path d=\"M17.41 7.96l-1.37-1.37c-.4-.4-.92-.59-1.43-.59-.52 0-1.04.2-1.43.59L10.3 9.45l-7.72 7.72c-.78.78-.78 2.05 0 2.83L4 21.41c.39.39.9.59 1.41.59.51 0 1.02-.2 1.41-.59l7.78-7.78 2.81-2.81c.8-.78.8-2.07 0-2.86zM5.41 20L4 18.59l7.72-7.72 1.47 1.35L5.41 20z\"/>\n",
              "  </svg>\n",
              "      </button>\n",
              "      \n",
              "  <style>\n",
              "    .colab-df-container {\n",
              "      display:flex;\n",
              "      flex-wrap:wrap;\n",
              "      gap: 12px;\n",
              "    }\n",
              "\n",
              "    .colab-df-convert {\n",
              "      background-color: #E8F0FE;\n",
              "      border: none;\n",
              "      border-radius: 50%;\n",
              "      cursor: pointer;\n",
              "      display: none;\n",
              "      fill: #1967D2;\n",
              "      height: 32px;\n",
              "      padding: 0 0 0 0;\n",
              "      width: 32px;\n",
              "    }\n",
              "\n",
              "    .colab-df-convert:hover {\n",
              "      background-color: #E2EBFA;\n",
              "      box-shadow: 0px 1px 2px rgba(60, 64, 67, 0.3), 0px 1px 3px 1px rgba(60, 64, 67, 0.15);\n",
              "      fill: #174EA6;\n",
              "    }\n",
              "\n",
              "    [theme=dark] .colab-df-convert {\n",
              "      background-color: #3B4455;\n",
              "      fill: #D2E3FC;\n",
              "    }\n",
              "\n",
              "    [theme=dark] .colab-df-convert:hover {\n",
              "      background-color: #434B5C;\n",
              "      box-shadow: 0px 1px 3px 1px rgba(0, 0, 0, 0.15);\n",
              "      filter: drop-shadow(0px 1px 2px rgba(0, 0, 0, 0.3));\n",
              "      fill: #FFFFFF;\n",
              "    }\n",
              "  </style>\n",
              "\n",
              "      <script>\n",
              "        const buttonEl =\n",
              "          document.querySelector('#df-d4b7cef8-e55c-4f26-ab61-b0b887acec61 button.colab-df-convert');\n",
              "        buttonEl.style.display =\n",
              "          google.colab.kernel.accessAllowed ? 'block' : 'none';\n",
              "\n",
              "        async function convertToInteractive(key) {\n",
              "          const element = document.querySelector('#df-d4b7cef8-e55c-4f26-ab61-b0b887acec61');\n",
              "          const dataTable =\n",
              "            await google.colab.kernel.invokeFunction('convertToInteractive',\n",
              "                                                     [key], {});\n",
              "          if (!dataTable) return;\n",
              "\n",
              "          const docLinkHtml = 'Like what you see? Visit the ' +\n",
              "            '<a target=\"_blank\" href=https://colab.research.google.com/notebooks/data_table.ipynb>data table notebook</a>'\n",
              "            + ' to learn more about interactive tables.';\n",
              "          element.innerHTML = '';\n",
              "          dataTable['output_type'] = 'display_data';\n",
              "          await google.colab.output.renderOutput(dataTable, element);\n",
              "          const docLink = document.createElement('div');\n",
              "          docLink.innerHTML = docLinkHtml;\n",
              "          element.appendChild(docLink);\n",
              "        }\n",
              "      </script>\n",
              "    </div>\n",
              "  </div>\n",
              "  "
            ]
          },
          "metadata": {},
          "execution_count": 9
        }
      ]
    },
    {
      "cell_type": "markdown",
      "source": [
        "Great! Let's get to work now!"
      ],
      "metadata": {
        "id": "MiFFfDydrQC3"
      }
    },
    {
      "cell_type": "markdown",
      "source": [
        "# Exploratory Data Analysis\n",
        "\n",
        "Before we get to work, let's check the distributions of our variables. We'll start with our response."
      ],
      "metadata": {
        "id": "8erKLyntrXTx"
      }
    },
    {
      "cell_type": "code",
      "source": [
        "# view the distribution of cases \n",
        "cases = data_df['cases_0']\n",
        "fig, (ax1, ax2) = plt.subplots(1, 2, figsize=(12, 6))\n",
        "\n",
        "ax1.hist(cases, 10)\n",
        "ax1.set_xlabel('Daily Case Count')\n",
        "ax1.set_ylabel('Frequency')\n",
        "ax1.set_title('Histogram of Case Counts')\n",
        "\n",
        "ax2.hist(cases[cases<100], 100)\n",
        "ax2.set_xlabel('Daily Case Count')\n",
        "ax2.set_ylabel('Frequency')\n",
        "ax2.set_title('Histogram of Case Counts')\n",
        "\n",
        "plt.show()"
      ],
      "metadata": {
        "colab": {
          "base_uri": "https://localhost:8080/",
          "height": 404
        },
        "id": "9WICN0RbrWfh",
        "outputId": "68ee1d88-5c3c-4211-a55d-495d904733a1"
      },
      "execution_count": null,
      "outputs": [
        {
          "output_type": "display_data",
          "data": {
            "text/plain": [
              "<Figure size 864x432 with 2 Axes>"
            ],
            "image/png": "[encoded data removed]"
          },
          "metadata": {
            "needs_background": "light"
          }
        }
      ]
    },
    {
      "cell_type": "markdown",
      "source": [
        "Uhhh that's not a good sign. What's the distribution of this variable?"
      ],
      "metadata": {
        "id": "XqzI9vpXtaKr"
      }
    },
    {
      "cell_type": "code",
      "source": [
        "# describe label\n",
        "data_df['cases_0'].describe()"
      ],
      "metadata": {
        "colab": {
          "base_uri": "https://localhost:8080/"
        },
        "id": "4rvpjfGatkFq",
        "outputId": "ad892e1b-7746-443b-cefa-2bbeb65a9245"
      },
      "execution_count": null,
      "outputs": [
        {
          "output_type": "execute_result",
          "data": {
            "text/plain": [
              "count    32472.000000\n",
              "mean        25.030734\n",
              "std        112.887106\n",
              "min          0.000000\n",
              "25%          0.000000\n",
              "50%          3.000000\n",
              "75%         14.000000\n",
              "max       5117.000000\n",
              "Name: cases_0, dtype: float64"
            ]
          },
          "metadata": {},
          "execution_count": 14
        }
      ]
    },
    {
      "cell_type": "markdown",
      "source": [
        "Hmm that's not good. This task will be hard. Let's look at the distribution of daily death counts."
      ],
      "metadata": {
        "id": "sSE_BKS5tm1K"
      }
    },
    {
      "cell_type": "code",
      "source": [
        "# view the distribution of deaths \n",
        "deaths = data_df['deaths_1']\n",
        "fig, (ax1, ax2) = plt.subplots(1, 2, figsize=(12, 6))\n",
        "\n",
        "ax1.hist(deaths, 10)\n",
        "ax1.set_xlabel('Daily Death Count')\n",
        "ax1.set_ylabel('Frequency')\n",
        "ax1.set_title('Histogram of Death Counts')\n",
        "\n",
        "ax2.hist(deaths[deaths<15], 10)\n",
        "ax2.set_xlabel('Daily Death Count')\n",
        "ax2.set_ylabel('Frequency')\n",
        "ax2.set_title('Histogram of Death Counts')\n",
        "\n",
        "plt.show()"
      ],
      "metadata": {
        "colab": {
          "base_uri": "https://localhost:8080/",
          "height": 404
        },
        "id": "6R4Y2majtwY6",
        "outputId": "c376c884-1aa5-4e7d-cd02-402dcf661424"
      },
      "execution_count": null,
      "outputs": [
        {
          "output_type": "display_data",
          "data": {
            "text/plain": [
              "<Figure size 864x432 with 2 Axes>"
            ],
            "image/png": "[encoded data removed]"
          },
          "metadata": {
            "needs_background": "light"
          }
        }
      ]
    },
    {
      "cell_type": "markdown",
      "source": [
        "Hmm. That's interesting. What about the raw value features? Let's pick one randomly."
      ],
      "metadata": {
        "id": "QcPyrGFPuFIw"
      }
    },
    {
      "cell_type": "code",
      "source": [
        "# view the distribution of raw values \n",
        "owner = data_df['Homeownership raw value']\n",
        "\n",
        "plt.hist(owner)\n",
        "plt.xlabel('Raw Value')\n",
        "plt.ylabel('Frequency')\n",
        "plt.title('Histogram of Raw Values')\n",
        "\n",
        "plt.show()"
      ],
      "metadata": {
        "colab": {
          "base_uri": "https://localhost:8080/",
          "height": 295
        },
        "id": "kkhZYGkVuD8q",
        "outputId": "82185c1d-5dae-428b-ac01-c50f8348253a"
      },
      "execution_count": null,
      "outputs": [
        {
          "output_type": "display_data",
          "data": {
            "text/plain": [
              "<Figure size 432x288 with 1 Axes>"
            ],
            "image/png": "[encoded data removed]"
          },
          "metadata": {
            "needs_background": "light"
          }
        }
      ]
    },
    {
      "cell_type": "markdown",
      "source": [
        "Ahhh! Finally something that's approximately normal.\n",
        "\n",
        "Let's continue our work now."
      ],
      "metadata": {
        "id": "y7yIsaPtuv_i"
      }
    },
    {
      "cell_type": "markdown",
      "source": [
        "# Split Train and Test Data\n",
        "\n",
        "Let's split our data into training and testing datasets."
      ],
      "metadata": {
        "id": "FcKb59SJu6QK"
      }
    },
    {
      "cell_type": "code",
      "source": [
        "# split data\n",
        "data_np = data_df.to_numpy()\n",
        "X = data_np[:, 1:]\n",
        "y = data_np[:, 0]\n",
        "\n",
        "X_train, X_test, y_train, y_test = train_test_split(X, y, random_state=42)"
      ],
      "metadata": {
        "id": "vyOLxU7kvCGL"
      },
      "execution_count": null,
      "outputs": []
    },
    {
      "cell_type": "markdown",
      "source": [
        "# Modeling\n",
        "\n",
        "Let's do some modeling! You might have seen that we imported scikit-learn's Ridge regression package, but don't worry, we'll do something more exciting. We're doing stepwise regression!\n",
        "\n",
        "Why stepwise regression? Well, we have a lot of features! I'm sure some are important, but most are probably useless. We want to use a model that will perform feature selection for us, and it just so happens that stepwise regression is good at that very task.\n",
        "\n",
        "Why didn't we import some stepwise regression package from scikit-learn? Well, unfortunately, people are too focused on the next big neural network, and no one has taken the time to create a stepwise regression package for us.\n",
        "\n",
        "That's fine though, it's pretty easy to implement. The first thing we will do is implement a function called ```update_model```.\n",
        "\n"
      ],
      "metadata": {
        "id": "WTxXQzjCvJCb"
      }
    },
    {
      "cell_type": "code",
      "source": [
        "def update_model(model, mae, incl_features, X_train, y_train, X_test, y_test):\n",
        "    ''' Inputs:\n",
        "            model -> best model so far\n",
        "            mae -> best mae so far\n",
        "            incl_features -> indices of features included in the current model\n",
        "            X_train -> train features\n",
        "            y_train -> train labels\n",
        "            X_test -> test features\n",
        "            y_test -> test labels\n",
        "        \n",
        "        Outputs:\n",
        "            model -> best model found\n",
        "            mae -> best mse found\n",
        "            incl_features -> indices of features included in the best model found\n",
        "    '''\n",
        "    to_try = [x for x in range(len(X_train[0])) if x not in incl_features]\n",
        "    best_feature = None\n",
        "    for x in to_try:\n",
        "        if len(incl_features) == 0:\n",
        "            rdg = Ridge().fit(X_train[:, x].reshape(-1, 1), y_train)\n",
        "            y_test_pred = rdg.predict(X_test[:, x].reshape(-1, 1))\n",
        "        else:\n",
        "            features = np.sort(incl_features + [x]).tolist()\n",
        "            rdg = Ridge().fit(X_train[:, features].reshape((X_train.shape[0], len(features))), y_train)\n",
        "            y_test_pred = rdg.predict(X_test[:, features].reshape((X_test.shape[0], len(features))))\n",
        "\n",
        "        rdg_test_mae = mean_absolute_error(y_test, y_test_pred)\n",
        "        if rdg_test_mae < mae:\n",
        "            mae = rdg_test_mae\n",
        "            model = rdg\n",
        "            best_feature = x\n",
        "    \n",
        "    if best_feature != None:\n",
        "        if len(incl_features) == 0:\n",
        "            incl_features = [best_feature]\n",
        "        else:\n",
        "            incl_features = incl_features + [best_feature]\n",
        "\n",
        "    return model, mae, incl_features"
      ],
      "metadata": {
        "id": "CvNWDnjHvInj"
      },
      "execution_count": null,
      "outputs": []
    },
    {
      "cell_type": "markdown",
      "source": [
        "Great! Now let's use it to implement stepwise regression. Implement ```stepwise_regression```."
      ],
      "metadata": {
        "id": "H0fDc8Lwwyp6"
      }
    },
    {
      "cell_type": "code",
      "source": [
        "def stepwise_regression(X_train, y_train, X_test, y_test, tol):\n",
        "    ''' Inputs:\n",
        "            X_train -> train features\n",
        "            y_train -> train labels\n",
        "            X_test -> test features\n",
        "            y_test -> test labels\n",
        "            tol -> tolerance\n",
        "        \n",
        "        Outputs:\n",
        "            model -> best model found\n",
        "\n",
        "    '''\n",
        "    losses = []\n",
        "    prev_incl_features = None\n",
        "    incl_features = []\n",
        "    order_added = []\n",
        "    model = Ridge().fit(np.ones((y_train.shape[0], 1)), y_train)\n",
        "    y_test_pred = model.predict(np.ones((y_test.shape[0], 1)))\n",
        "    mae = mean_absolute_error(y_test, y_test_pred)\n",
        "\n",
        "    while len(losses) == 0 or (prev_incl_features != incl_features and losses[-1] - mae >= tol):\n",
        "        prev_incl_features = incl_features\n",
        "        losses.append(mae)\n",
        "        model, mae, incl_features = update_model(model, mae, incl_features, X_train, y_train, X_test, y_test)\n",
        "        order_added = order_added + [incl_features[-1]]\n",
        "    \n",
        "    losses.append(mae)\n",
        "\n",
        "    return model, order_added, losses"
      ],
      "metadata": {
        "id": "cIbN2Mgow7dU"
      },
      "execution_count": null,
      "outputs": []
    },
    {
      "cell_type": "markdown",
      "source": [
        "Cool! Let's use it! We'll use a tolerance of 0.01 because, for our usage, we don't really need it to be accurate than that."
      ],
      "metadata": {
        "id": "_hW2EcswxCXz"
      }
    },
    {
      "cell_type": "code",
      "source": [
        "# train and test stepwise regression\n",
        "stp, order_added, losses = stepwise_regression(X_train[:int(X_train.shape[0] * 0.8)], y_train[:int(X_train.shape[0] * 0.8)], X_train[int(X_train.shape[0] * 0.8):], y_train[int(X_train.shape[0] * 0.8):], .01)\n",
        "\n",
        "to_select = np.sort(order_added).tolist()\n",
        "stp = Ridge().fit(X_train[:, to_select].reshape((X_train.shape[0], len(to_select))), y_train)\n",
        "\n",
        "y_train_pred = stp.predict(X_train[:, to_select].reshape((X_train.shape[0], len(to_select))))\n",
        "y_test_pred = stp.predict(X_test[:, to_select].reshape((X_test.shape[0], len(to_select))))\n",
        "\n",
        "stp_train_mae = mean_absolute_error(y_train, y_train_pred)\n",
        "stp_test_mae = mean_absolute_error(y_test, y_test_pred)\n",
        "\n",
        "print('Inlcuded features are: %s' % order_added)\n",
        "print('Train MAE is: %s' % stp_train_mae)\n",
        "print('Test MAE is: %s' % stp_test_mae)"
      ],
      "metadata": {
        "colab": {
          "base_uri": "https://localhost:8080/"
        },
        "id": "bs5s6zVWxPvb",
        "outputId": "d7e80da7-8ecd-4625-9124-7627aa1cea00"
      },
      "execution_count": null,
      "outputs": [
        {
          "output_type": "stream",
          "name": "stdout",
          "text": [
            "Inlcuded features are: [12, 0, 10, 8, 105, 2, 6, 116, 4]\n",
            "Train MAE is: 11.080777694899679\n",
            "Test MAE is: 11.325592150929861\n"
          ]
        }
      ]
    },
    {
      "cell_type": "markdown",
      "source": [
        "Wow! Pretty cool! Let's visualize some predictions!"
      ],
      "metadata": {
        "id": "LRwpoqBMxaoj"
      }
    },
    {
      "cell_type": "code",
      "source": [
        "# visualize predictions\n",
        "plt.plot(y_test[:50], color='blue')\n",
        "plt.plot(y_test_pred[:50], color='red')\n",
        "plt.show()"
      ],
      "metadata": {
        "colab": {
          "base_uri": "https://localhost:8080/",
          "height": 265
        },
        "id": "gLuquYqgxaUk",
        "outputId": "2cc8e06b-11af-4511-e39d-5b7473114989"
      },
      "execution_count": null,
      "outputs": [
        {
          "output_type": "display_data",
          "data": {
            "text/plain": [
              "<Figure size 432x288 with 1 Axes>"
            ],
            "image/png": "[encoded data removed]"
          },
          "metadata": {
            "needs_background": "light"
          }
        }
      ]
    },
    {
      "cell_type": "markdown",
      "source": [
        "Awesome! It seems like it's able to follow the trend pretty well. It's not perfect, but not terrible. One of the outputs of our model was the features included in our model. We see that the following features were added, in this order:\n",
        "\n",
        "1. Case increase 7 days ago\n",
        "2. Case increase 1 days ago\n",
        "3. Case increase 6 days ago\n",
        "4. Case increase 5 days ago\n",
        "5. Population raw value\n",
        "6. Case increase 2 days ago\n",
        "7. Case increase 4 days ago\n",
        "8. Percent rural raw value\n",
        "9. Case increase 3 days ago\n",
        "\n",
        "Pretty cool! Let's see how the loss changes as we added each feature."
      ],
      "metadata": {
        "id": "nASTUUeUxhJz"
      }
    },
    {
      "cell_type": "code",
      "source": [
        "# visualize losses\n",
        "plt.plot(losses)\n",
        "plt.xlabel('Number of features')\n",
        "plt.ylabel('Loss')\n",
        "plt.title('Loss vs Number of Features')\n",
        "plt.show()"
      ],
      "metadata": {
        "colab": {
          "base_uri": "https://localhost:8080/",
          "height": 295
        },
        "id": "WTNs2dZnySK1",
        "outputId": "905bca76-fbfa-4640-a348-a20a6151d37d"
      },
      "execution_count": null,
      "outputs": [
        {
          "output_type": "display_data",
          "data": {
            "text/plain": [
              "<Figure size 432x288 with 1 Axes>"
            ],
            "image/png": "[encoded data removed]"
          },
          "metadata": {
            "needs_background": "light"
          }
        }
      ]
    },
    {
      "cell_type": "markdown",
      "source": [
        "# Conclusion\n",
        "\n",
        "Even though there were some significant challenges with our data, notable the distribution of our features and label, we see that we were able to make some pretty good predictions!\n",
        "\n",
        "One of the reasons why stepwise regression works well in this case is because it does a great job of feature selection. We started with 169 features, yet, our model only chose 9.\n",
        "\n",
        "Hopefully you enjoyed this notebook and you learned something new!"
      ],
      "metadata": {
        "id": "xct62ZDiyWSt"
      }
    }
  ]
}