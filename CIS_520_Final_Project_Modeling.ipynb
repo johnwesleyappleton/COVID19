{
  "nbformat": 4,
  "nbformat_minor": 0,
  "metadata": {
    "colab": {
      "provenance": [],
      "collapsed_sections": [
        "KivT-HW7DNiO"
      ]
    },
    "kernelspec": {
      "name": "python3",
      "display_name": "Python 3"
    },
    "language_info": {
      "name": "python"
    },
    "gpuClass": "standard"
  },
  "cells": [
    {
      "cell_type": "markdown",
      "source": [
        "# Import Libraries and Data"
      ],
      "metadata": {
        "id": "CmkLmeINY4-J"
      }
    },
    {
      "cell_type": "code",
      "execution_count": null,
      "metadata": {
        "id": "CAz-IhBxoQeI"
      },
      "outputs": [],
      "source": [
        "# make imports\n",
        "import numpy as np\n",
        "import pandas as pd\n",
        "import matplotlib.pyplot as plt\n",
        "\n",
        "from xgboost import XGBRegressor\n",
        "\n",
        "from sklearn.model_selection import train_test_split\n",
        "from sklearn.linear_model import Ridge\n",
        "from sklearn.linear_model import RidgeCV\n",
        "from sklearn.linear_model import ElasticNetCV\n",
        "from sklearn.ensemble import RandomForestRegressor\n",
        "from sklearn.metrics import mean_absolute_error\n",
        "\n",
        "from google.colab import drive"
      ]
    },
    {
      "cell_type": "code",
      "source": [
        "# mount to drive\n",
        "prefix = '/content/drive'\n",
        "from google.colab import drive\n",
        "drive.mount(prefix)"
      ],
      "metadata": {
        "colab": {
          "base_uri": "https://localhost:8080/"
        },
        "id": "8t4o1sdkTSdI",
        "outputId": "7e447d21-a5fd-4765-d146-f9f18ca92ca2"
      },
      "execution_count": null,
      "outputs": [
        {
          "output_type": "stream",
          "name": "stdout",
          "text": [
            "Drive already mounted at /content/drive; to attempt to forcibly remount, call drive.mount(\"/content/drive\", force_remount=True).\n"
          ]
        }
      ]
    },
    {
      "cell_type": "code",
      "source": [
        "# create path to partial csv file\n",
        "data_path = '/content/drive/My Drive/CIS_520_Final_Project/partial_data.csv'"
      ],
      "metadata": {
        "id": "wj32rL_JTWEO"
      },
      "execution_count": null,
      "outputs": []
    },
    {
      "cell_type": "code",
      "source": [
        "# # create path to full csv file\n",
        "# data_path = '/content/drive/My Drive/CIS_520_Final_Project/data.csv'"
      ],
      "metadata": {
        "id": "FfRoXfAEea9-"
      },
      "execution_count": null,
      "outputs": []
    },
    {
      "cell_type": "code",
      "source": [
        "# read data files\n",
        "data_df = pd.read_csv(data_path)"
      ],
      "metadata": {
        "id": "2TfwO2K9TYB1"
      },
      "execution_count": null,
      "outputs": []
    },
    {
      "cell_type": "code",
      "source": [
        "# view data\n",
        "print(data_df.shape)\n",
        "data_df.head()"
      ],
      "metadata": {
        "colab": {
          "base_uri": "https://localhost:8080/"
        },
        "id": "YeczZKJoDi0G",
        "outputId": "b4d5ae17-8c05-4514-e6ae-e12a6954559c"
      },
      "execution_count": null,
      "outputs": [
        {
          "output_type": "stream",
          "name": "stdout",
          "text": [
            "(32472, 170)\n"
          ]
        },
        {
          "output_type": "execute_result",
          "data": {
            "text/plain": [
              "   cases_0  cases_1  deaths_1  cases_2  deaths_2  cases_3  deaths_3  cases_4  \\\n",
              "0      0.0      0.0       0.0      0.0       0.0      1.0       0.0      0.0   \n",
              "1      6.0     10.0       0.0     10.0       0.0      9.0       0.0     17.0   \n",
              "2    152.0    149.0       3.0    192.0       6.0    110.0       9.0    113.0   \n",
              "3      0.0      0.0       0.0      0.0       0.0      0.0       0.0      0.0   \n",
              "4      8.0     22.0       0.0     12.0       0.0     12.0       0.0     17.0   \n",
              "\n",
              "   deaths_4  cases_5  ...  ['State Abbreviation']_UT  \\\n",
              "0       0.0      2.0  ...                          0   \n",
              "1       0.0      4.0  ...                          0   \n",
              "2       8.0    122.0  ...                          0   \n",
              "3       0.0      0.0  ...                          0   \n",
              "4       1.0      9.0  ...                          0   \n",
              "\n",
              "   ['State Abbreviation']_VA  ['State Abbreviation']_VT  \\\n",
              "0                          0                          0   \n",
              "1                          0                          0   \n",
              "2                          0                          0   \n",
              "3                          0                          0   \n",
              "4                          0                          0   \n",
              "\n",
              "   ['State Abbreviation']_WA  ['State Abbreviation']_WI  \\\n",
              "0                          0                          0   \n",
              "1                          0                          0   \n",
              "2                          0                          0   \n",
              "3                          0                          0   \n",
              "4                          0                          0   \n",
              "\n",
              "   ['State Abbreviation']_WV  ['State Abbreviation']_WY  \\\n",
              "0                          0                          0   \n",
              "1                          0                          0   \n",
              "2                          0                          0   \n",
              "3                          0                          0   \n",
              "4                          0                          0   \n",
              "\n",
              "   ['Premature death flag (0 = No Flag/1=Unreliable/2=Suppressed)']_0  \\\n",
              "0                                                  1                    \n",
              "1                                                  1                    \n",
              "2                                                  1                    \n",
              "3                                                  1                    \n",
              "4                                                  1                    \n",
              "\n",
              "   ['Premature death flag (0 = No Flag/1=Unreliable/2=Suppressed)']_1  \\\n",
              "0                                                  0                    \n",
              "1                                                  0                    \n",
              "2                                                  0                    \n",
              "3                                                  0                    \n",
              "4                                                  0                    \n",
              "\n",
              "   ['Premature death flag (0 = No Flag/1=Unreliable/2=Suppressed)']_2  \n",
              "0                                                  0                   \n",
              "1                                                  0                   \n",
              "2                                                  0                   \n",
              "3                                                  0                   \n",
              "4                                                  0                   \n",
              "\n",
              "[5 rows x 170 columns]"
            ],
            "text/html": [
              "\n",
              "  <div id=\"df-15973876-88a1-407d-9a6f-0fbe26b096d3\">\n",
              "    <div class=\"colab-df-container\">\n",
              "      <div>\n",
              "<style scoped>\n",
              "    .dataframe tbody tr th:only-of-type {\n",
              "        vertical-align: middle;\n",
              "    }\n",
              "\n",
              "    .dataframe tbody tr th {\n",
              "        vertical-align: top;\n",
              "    }\n",
              "\n",
              "    .dataframe thead th {\n",
              "        text-align: right;\n",
              "    }\n",
              "</style>\n",
              "<table border=\"1\" class=\"dataframe\">\n",
              "  <thead>\n",
              "    <tr style=\"text-align: right;\">\n",
              "      <th></th>\n",
              "      <th>cases_0</th>\n",
              "      <th>cases_1</th>\n",
              "      <th>deaths_1</th>\n",
              "      <th>cases_2</th>\n",
              "      <th>deaths_2</th>\n",
              "      <th>cases_3</th>\n",
              "      <th>deaths_3</th>\n",
              "      <th>cases_4</th>\n",
              "      <th>deaths_4</th>\n",
              "      <th>cases_5</th>\n",
              "      <th>...</th>\n",
              "      <th>['State Abbreviation']_UT</th>\n",
              "      <th>['State Abbreviation']_VA</th>\n",
              "      <th>['State Abbreviation']_VT</th>\n",
              "      <th>['State Abbreviation']_WA</th>\n",
              "      <th>['State Abbreviation']_WI</th>\n",
              "      <th>['State Abbreviation']_WV</th>\n",
              "      <th>['State Abbreviation']_WY</th>\n",
              "      <th>['Premature death flag (0 = No Flag/1=Unreliable/2=Suppressed)']_0</th>\n",
              "      <th>['Premature death flag (0 = No Flag/1=Unreliable/2=Suppressed)']_1</th>\n",
              "      <th>['Premature death flag (0 = No Flag/1=Unreliable/2=Suppressed)']_2</th>\n",
              "    </tr>\n",
              "  </thead>\n",
              "  <tbody>\n",
              "    <tr>\n",
              "      <th>0</th>\n",
              "      <td>0.0</td>\n",
              "      <td>0.0</td>\n",
              "      <td>0.0</td>\n",
              "      <td>0.0</td>\n",
              "      <td>0.0</td>\n",
              "      <td>1.0</td>\n",
              "      <td>0.0</td>\n",
              "      <td>0.0</td>\n",
              "      <td>0.0</td>\n",
              "      <td>2.0</td>\n",
              "      <td>...</td>\n",
              "      <td>0</td>\n",
              "      <td>0</td>\n",
              "      <td>0</td>\n",
              "      <td>0</td>\n",
              "      <td>0</td>\n",
              "      <td>0</td>\n",
              "      <td>0</td>\n",
              "      <td>1</td>\n",
              "      <td>0</td>\n",
              "      <td>0</td>\n",
              "    </tr>\n",
              "    <tr>\n",
              "      <th>1</th>\n",
              "      <td>6.0</td>\n",
              "      <td>10.0</td>\n",
              "      <td>0.0</td>\n",
              "      <td>10.0</td>\n",
              "      <td>0.0</td>\n",
              "      <td>9.0</td>\n",
              "      <td>0.0</td>\n",
              "      <td>17.0</td>\n",
              "      <td>0.0</td>\n",
              "      <td>4.0</td>\n",
              "      <td>...</td>\n",
              "      <td>0</td>\n",
              "      <td>0</td>\n",
              "      <td>0</td>\n",
              "      <td>0</td>\n",
              "      <td>0</td>\n",
              "      <td>0</td>\n",
              "      <td>0</td>\n",
              "      <td>1</td>\n",
              "      <td>0</td>\n",
              "      <td>0</td>\n",
              "    </tr>\n",
              "    <tr>\n",
              "      <th>2</th>\n",
              "      <td>152.0</td>\n",
              "      <td>149.0</td>\n",
              "      <td>3.0</td>\n",
              "      <td>192.0</td>\n",
              "      <td>6.0</td>\n",
              "      <td>110.0</td>\n",
              "      <td>9.0</td>\n",
              "      <td>113.0</td>\n",
              "      <td>8.0</td>\n",
              "      <td>122.0</td>\n",
              "      <td>...</td>\n",
              "      <td>0</td>\n",
              "      <td>0</td>\n",
              "      <td>0</td>\n",
              "      <td>0</td>\n",
              "      <td>0</td>\n",
              "      <td>0</td>\n",
              "      <td>0</td>\n",
              "      <td>1</td>\n",
              "      <td>0</td>\n",
              "      <td>0</td>\n",
              "    </tr>\n",
              "    <tr>\n",
              "      <th>3</th>\n",
              "      <td>0.0</td>\n",
              "      <td>0.0</td>\n",
              "      <td>0.0</td>\n",
              "      <td>0.0</td>\n",
              "      <td>0.0</td>\n",
              "      <td>0.0</td>\n",
              "      <td>0.0</td>\n",
              "      <td>0.0</td>\n",
              "      <td>0.0</td>\n",
              "      <td>0.0</td>\n",
              "      <td>...</td>\n",
              "      <td>0</td>\n",
              "      <td>0</td>\n",
              "      <td>0</td>\n",
              "      <td>0</td>\n",
              "      <td>0</td>\n",
              "      <td>0</td>\n",
              "      <td>0</td>\n",
              "      <td>1</td>\n",
              "      <td>0</td>\n",
              "      <td>0</td>\n",
              "    </tr>\n",
              "    <tr>\n",
              "      <th>4</th>\n",
              "      <td>8.0</td>\n",
              "      <td>22.0</td>\n",
              "      <td>0.0</td>\n",
              "      <td>12.0</td>\n",
              "      <td>0.0</td>\n",
              "      <td>12.0</td>\n",
              "      <td>0.0</td>\n",
              "      <td>17.0</td>\n",
              "      <td>1.0</td>\n",
              "      <td>9.0</td>\n",
              "      <td>...</td>\n",
              "      <td>0</td>\n",
              "      <td>0</td>\n",
              "      <td>0</td>\n",
              "      <td>0</td>\n",
              "      <td>0</td>\n",
              "      <td>0</td>\n",
              "      <td>0</td>\n",
              "      <td>1</td>\n",
              "      <td>0</td>\n",
              "      <td>0</td>\n",
              "    </tr>\n",
              "  </tbody>\n",
              "</table>\n",
              "<p>5 rows × 170 columns</p>\n",
              "</div>\n",
              "      <button class=\"colab-df-convert\" onclick=\"convertToInteractive('df-15973876-88a1-407d-9a6f-0fbe26b096d3')\"\n",
              "              title=\"Convert this dataframe to an interactive table.\"\n",
              "              style=\"display:none;\">\n",
              "        \n",
              "  <svg xmlns=\"http://www.w3.org/2000/svg\" height=\"24px\"viewBox=\"0 0 24 24\"\n",
              "       width=\"24px\">\n",
              "    <path d=\"M0 0h24v24H0V0z\" fill=\"none\"/>\n",
              "    <path d=\"M18.56 5.44l.94 2.06.94-2.06 2.06-.94-2.06-.94-.94-2.06-.94 2.06-2.06.94zm-11 1L8.5 8.5l.94-2.06 2.06-.94-2.06-.94L8.5 2.5l-.94 2.06-2.06.94zm10 10l.94 2.06.94-2.06 2.06-.94-2.06-.94-.94-2.06-.94 2.06-2.06.94z\"/><path d=\"M17.41 7.96l-1.37-1.37c-.4-.4-.92-.59-1.43-.59-.52 0-1.04.2-1.43.59L10.3 9.45l-7.72 7.72c-.78.78-.78 2.05 0 2.83L4 21.41c.39.39.9.59 1.41.59.51 0 1.02-.2 1.41-.59l7.78-7.78 2.81-2.81c.8-.78.8-2.07 0-2.86zM5.41 20L4 18.59l7.72-7.72 1.47 1.35L5.41 20z\"/>\n",
              "  </svg>\n",
              "      </button>\n",
              "      \n",
              "  <style>\n",
              "    .colab-df-container {\n",
              "      display:flex;\n",
              "      flex-wrap:wrap;\n",
              "      gap: 12px;\n",
              "    }\n",
              "\n",
              "    .colab-df-convert {\n",
              "      background-color: #E8F0FE;\n",
              "      border: none;\n",
              "      border-radius: 50%;\n",
              "      cursor: pointer;\n",
              "      display: none;\n",
              "      fill: #1967D2;\n",
              "      height: 32px;\n",
              "      padding: 0 0 0 0;\n",
              "      width: 32px;\n",
              "    }\n",
              "\n",
              "    .colab-df-convert:hover {\n",
              "      background-color: #E2EBFA;\n",
              "      box-shadow: 0px 1px 2px rgba(60, 64, 67, 0.3), 0px 1px 3px 1px rgba(60, 64, 67, 0.15);\n",
              "      fill: #174EA6;\n",
              "    }\n",
              "\n",
              "    [theme=dark] .colab-df-convert {\n",
              "      background-color: #3B4455;\n",
              "      fill: #D2E3FC;\n",
              "    }\n",
              "\n",
              "    [theme=dark] .colab-df-convert:hover {\n",
              "      background-color: #434B5C;\n",
              "      box-shadow: 0px 1px 3px 1px rgba(0, 0, 0, 0.15);\n",
              "      filter: drop-shadow(0px 1px 2px rgba(0, 0, 0, 0.3));\n",
              "      fill: #FFFFFF;\n",
              "    }\n",
              "  </style>\n",
              "\n",
              "      <script>\n",
              "        const buttonEl =\n",
              "          document.querySelector('#df-15973876-88a1-407d-9a6f-0fbe26b096d3 button.colab-df-convert');\n",
              "        buttonEl.style.display =\n",
              "          google.colab.kernel.accessAllowed ? 'block' : 'none';\n",
              "\n",
              "        async function convertToInteractive(key) {\n",
              "          const element = document.querySelector('#df-15973876-88a1-407d-9a6f-0fbe26b096d3');\n",
              "          const dataTable =\n",
              "            await google.colab.kernel.invokeFunction('convertToInteractive',\n",
              "                                                     [key], {});\n",
              "          if (!dataTable) return;\n",
              "\n",
              "          const docLinkHtml = 'Like what you see? Visit the ' +\n",
              "            '<a target=\"_blank\" href=https://colab.research.google.com/notebooks/data_table.ipynb>data table notebook</a>'\n",
              "            + ' to learn more about interactive tables.';\n",
              "          element.innerHTML = '';\n",
              "          dataTable['output_type'] = 'display_data';\n",
              "          await google.colab.output.renderOutput(dataTable, element);\n",
              "          const docLink = document.createElement('div');\n",
              "          docLink.innerHTML = docLinkHtml;\n",
              "          element.appendChild(docLink);\n",
              "        }\n",
              "      </script>\n",
              "    </div>\n",
              "  </div>\n",
              "  "
            ]
          },
          "metadata": {},
          "execution_count": 6
        }
      ]
    },
    {
      "cell_type": "markdown",
      "source": [
        "# Split Train and Test Datasets"
      ],
      "metadata": {
        "id": "KivT-HW7DNiO"
      }
    },
    {
      "cell_type": "code",
      "source": [
        "# describe label\n",
        "data_df['cases_0'].describe()"
      ],
      "metadata": {
        "colab": {
          "base_uri": "https://localhost:8080/"
        },
        "id": "w-ORGKSk9qPU",
        "outputId": "308cbb85-7588-4050-829c-dd71a81ffca9"
      },
      "execution_count": null,
      "outputs": [
        {
          "output_type": "execute_result",
          "data": {
            "text/plain": [
              "count    32472.000000\n",
              "mean        25.030734\n",
              "std        112.887106\n",
              "min          0.000000\n",
              "25%          0.000000\n",
              "50%          3.000000\n",
              "75%         14.000000\n",
              "max       5117.000000\n",
              "Name: cases_0, dtype: float64"
            ]
          },
          "metadata": {},
          "execution_count": 7
        }
      ]
    },
    {
      "cell_type": "code",
      "source": [
        "# split data\n",
        "data_np = data_df.to_numpy()\n",
        "X = data_np[:, 1:]\n",
        "y = data_np[:, 0]\n",
        "\n",
        "X_train, X_test, y_train, y_test = train_test_split(X, y, random_state=42)"
      ],
      "metadata": {
        "id": "3doTOSt9_-dU"
      },
      "execution_count": null,
      "outputs": []
    },
    {
      "cell_type": "markdown",
      "source": [
        "# Modeling"
      ],
      "metadata": {
        "id": "H6OlnQLFEwtb"
      }
    },
    {
      "cell_type": "code",
      "source": [
        "# train and test ridge regression\n",
        "rdg = RidgeCV(alphas=(1, 10, 100, 1000, 10000), cv=5).fit(X_train, y_train)\n",
        "\n",
        "y_train_pred = rdg.predict(X_train)\n",
        "y_test_pred = rdg.predict(X_test)\n",
        "\n",
        "rdg_train_mae = mean_absolute_error(y_train, y_train_pred)\n",
        "rdg_test_mae = mean_absolute_error(y_test, y_test_pred)\n",
        "\n",
        "print('Best parameters are: %s' % rdg.alpha_)\n",
        "print('Train MAE is: %s' % rdg_train_mae)\n",
        "print('Test MAE is: %s' % rdg_test_mae)"
      ],
      "metadata": {
        "colab": {
          "base_uri": "https://localhost:8080/"
        },
        "id": "147pRY8VBNJ3",
        "outputId": "463ff519-8703-4552-d767-9e002a869188"
      },
      "execution_count": null,
      "outputs": [
        {
          "output_type": "stream",
          "name": "stdout",
          "text": [
            "Best parameters are: 10000\n",
            "Train MAE is: 11.464480172488786\n",
            "Test MAE is: 11.898864170882867\n"
          ]
        }
      ]
    },
    {
      "cell_type": "code",
      "source": [
        "# visualize predictions\n",
        "plt.plot(y_test[:50], color='blue')\n",
        "plt.plot(y_test_pred[:50], color='red')\n",
        "plt.show()"
      ],
      "metadata": {
        "colab": {
          "base_uri": "https://localhost:8080/",
          "height": 265
        },
        "id": "YmtzVej_I91C",
        "outputId": "3d8e2e5c-848f-44c3-c3d0-9b8f6ff1e291"
      },
      "execution_count": null,
      "outputs": [
        {
          "output_type": "display_data",
          "data": {
            "text/plain": [
              "<Figure size 432x288 with 1 Axes>"
            ],
            "image/png": "[encoded data removed]"
          },
          "metadata": {
            "needs_background": "light"
          }
        }
      ]
    },
    {
      "cell_type": "code",
      "source": [
        "# train and test elastic net regression\n",
        "params = {\n",
        "    'l1_ratio': [.001, .01, .1, .5, .9, .99, 1],\n",
        "    'alphas': [1, 100, 250, 500, 1000, 2000, 4000]\n",
        "}\n",
        "\n",
        "eln = ElasticNetCV(**params, max_iter=1000000, cv=5, random_state=42).fit(X_train, y_train)\n",
        "\n",
        "y_train_pred = eln.predict(X_train)\n",
        "y_test_pred = eln.predict(X_test)\n",
        "\n",
        "eln_train_mae = mean_absolute_error(y_train, y_train_pred)\n",
        "eln_test_mae = mean_absolute_error(y_test, y_test_pred)\n",
        "\n",
        "print('Best alpha is: %s' % eln.alpha_)\n",
        "print('Best L1 ratio is: %s' % eln.l1_ratio_)\n",
        "print('Train MAE is: %s' % eln_train_mae)\n",
        "print('Test MAE is: %s' % eln_test_mae)"
      ],
      "metadata": {
        "colab": {
          "base_uri": "https://localhost:8080/"
        },
        "id": "wpfrSd2lJN5B",
        "outputId": "585a35fe-c320-4a15-8be6-ddbc328e11c4"
      },
      "execution_count": null,
      "outputs": [
        {
          "output_type": "stream",
          "name": "stdout",
          "text": [
            "Best alpha is: 2000\n",
            "Best L1 ratio is: 0.01\n",
            "Train MAE is: 11.425126594418957\n",
            "Test MAE is: 11.796551855340669\n"
          ]
        }
      ]
    },
    {
      "cell_type": "code",
      "source": [
        "# see how many coefficients are zeroed out\n",
        "print(np.count_nonzero(eln.coef_))"
      ],
      "metadata": {
        "colab": {
          "base_uri": "https://localhost:8080/"
        },
        "id": "sicNbvLiSlYU",
        "outputId": "0774294f-4cf1-43cc-e999-2fb461e63567"
      },
      "execution_count": null,
      "outputs": [
        {
          "output_type": "stream",
          "name": "stdout",
          "text": [
            "19\n"
          ]
        }
      ]
    },
    {
      "cell_type": "code",
      "source": [
        "# visualize predictions\n",
        "plt.plot(y_test[:50], color='blue')\n",
        "plt.plot(y_test_pred[:50], color='red')\n",
        "plt.show()"
      ],
      "metadata": {
        "colab": {
          "base_uri": "https://localhost:8080/",
          "height": 265
        },
        "id": "2wRryiLUIw89",
        "outputId": "fa6dd771-be13-4ba2-948e-b95f871e3629"
      },
      "execution_count": null,
      "outputs": [
        {
          "output_type": "display_data",
          "data": {
            "text/plain": [
              "<Figure size 432x288 with 1 Axes>"
            ],
            "image/png": "[encoded data removed]"
          },
          "metadata": {
            "needs_background": "light"
          }
        }
      ]
    },
    {
      "cell_type": "code",
      "source": [
        "# train and test random forest regressor\n",
        "rfr = RandomForestRegressor(n_estimators=1000, max_features='sqrt', random_state=42).fit(X_train, y_train)\n",
        "\n",
        "y_train_pred = rfr.predict(X_train)\n",
        "y_test_pred = rfr.predict(X_test)\n",
        "\n",
        "rfr_train_mae = mean_absolute_error(y_train, y_train_pred)\n",
        "rfr_test_mae = mean_absolute_error(y_test, y_test_pred)\n",
        "\n",
        "print('Train MAE is: %s' % rfr_train_mae)\n",
        "print('Test MAE is: %s' % rfr_test_mae)"
      ],
      "metadata": {
        "colab": {
          "base_uri": "https://localhost:8080/"
        },
        "id": "bqyvptfJKOQ7",
        "outputId": "8387ef20-b11c-4ccc-99cf-8c3ad152d8e0"
      },
      "execution_count": null,
      "outputs": [
        {
          "output_type": "stream",
          "name": "stdout",
          "text": [
            "Train MAE is: 4.291436330524251\n",
            "Test MAE is: 12.042839591391493\n"
          ]
        }
      ]
    },
    {
      "cell_type": "code",
      "source": [
        "# visualize predictions\n",
        "plt.plot(y_test[:50], color='blue')\n",
        "plt.plot(y_test_pred[:50], color='red')\n",
        "plt.show()"
      ],
      "metadata": {
        "colab": {
          "base_uri": "https://localhost:8080/",
          "height": 265
        },
        "id": "_dbA_JOqJG1F",
        "outputId": "33bbdffe-6805-45ab-ba6a-ed897bcadde7"
      },
      "execution_count": null,
      "outputs": [
        {
          "output_type": "display_data",
          "data": {
            "text/plain": [
              "<Figure size 432x288 with 1 Axes>"
            ],
            "image/png": "[encoded data removed]"
          },
          "metadata": {
            "needs_background": "light"
          }
        }
      ]
    },
    {
      "cell_type": "code",
      "source": [
        "# # train and test xgboost\n",
        "# n_estimators = [100, 200, 500]\n",
        "# learning_rate = [.001, .01, .1]\n",
        "# max_depth = [5, 7, 9]\n",
        "\n",
        "# best_n = None\n",
        "# best_rate = None\n",
        "# best_depth = None\n",
        "# xgb_val_mae = 1000000\n",
        "# for i in range(3):\n",
        "#     for j in range(3):\n",
        "#         for k in range(3):\n",
        "#             curr_xgb = XGBRegressor(n_estimators=n_estimators[i],\n",
        "#                          learning_rate=learning_rate[j],\n",
        "#                          max_depth=max_depth[k],\n",
        "#                          random_state=42,\n",
        "#                          verbosity=0).fit(X_train[:int(X_train.shape[0] * 0.8)], y_train[:int(X_train.shape[0] * 0.8)])\n",
        "\n",
        "#             curr_y_val_pred = curr_xgb.predict(X_train[int(X_train.shape[0] * 0.8):])\n",
        "#             curr_xgb_val_mae = mean_absolute_error(y_train[int(X_train.shape[0] * 0.8):], curr_y_val_pred)\n",
        "\n",
        "#             if curr_xgb_val_mae < xgb_val_mae:\n",
        "#                 xgb_val_mae = curr_xgb_val_mae\n",
        "#                 best_n = n_estimators[i]\n",
        "#                 best_rate = learning_rate[j]\n",
        "#                 best_depth = max_depth[k]\n",
        "\n",
        "# xgb = XGBRegressor(n_estimators=best_n, learning_rate=best_rate, max_depth=best_depth, random_state=42, verbosity=0).fit(X_train, y_train)\n",
        "\n",
        "# y_train_pred = xgb.predict(X_train)\n",
        "# y_test_pred = xgb.predict(X_test)\n",
        "\n",
        "# xgb_train_mae = mean_absolute_error(y_train, y_train_pred)\n",
        "# xgb_test_mae = mean_absolute_error(y_test, y_test_pred)\n",
        "\n",
        "# print('Best number of estimators is: %s' % xgb.n_estimators)\n",
        "# print('Best learning rate is: %s' % xgb.learning_rate)\n",
        "# print('Best max depth is: %s' % xgb.max_depth)\n",
        "# print('Train MAE is: %s' % xgb_train_mae)\n",
        "# print('Test MAE is: %s' % xgb_test_mae)"
      ],
      "metadata": {
        "id": "78IYjUWyFXUe"
      },
      "execution_count": null,
      "outputs": []
    },
    {
      "cell_type": "code",
      "source": [
        "# train and test xgboost given optimal hyperparameters\n",
        "# ran the snippet above and got the following hyperparameters\n",
        "'''\n",
        "Best number of estimators is: 200\n",
        "Best learning rate is: 0.01\n",
        "Best max depth is: 9\n",
        "'''\n",
        "\n",
        "xgb = XGBRegressor(n_estimators=200, learning_rate=0.01, max_depth=9, random_state=42, verbosity=0).fit(X_train, y_train)\n",
        "\n",
        "y_train_pred = xgb.predict(X_train)\n",
        "y_test_pred = xgb.predict(X_test)\n",
        "\n",
        "xgb_train_mae = mean_absolute_error(y_train, y_train_pred)\n",
        "xgb_test_mae = mean_absolute_error(y_test, y_test_pred)\n",
        "\n",
        "print('Best number of estimators is: %s' % xgb.n_estimators)\n",
        "print('Best learning rate is: %s' % xgb.learning_rate)\n",
        "print('Best max depth is: %s' % xgb.max_depth)\n",
        "print('Train MAE is: %s' % xgb_train_mae)\n",
        "print('Test MAE is: %s' % xgb_test_mae)"
      ],
      "metadata": {
        "colab": {
          "base_uri": "https://localhost:8080/"
        },
        "id": "SGZCiP6C84kA",
        "outputId": "e260aadf-05fe-4ad7-cf7e-541338cc1308"
      },
      "execution_count": null,
      "outputs": [
        {
          "output_type": "stream",
          "name": "stdout",
          "text": [
            "Best number of estimators is: 200\n",
            "Best learning rate is: 0.01\n",
            "Best max depth is: 9\n",
            "Train MAE is: 7.590066353576694\n",
            "Test MAE is: 11.380396953142167\n"
          ]
        }
      ]
    },
    {
      "cell_type": "code",
      "source": [
        "# visualize predictions\n",
        "plt.plot(y_test[:50], color='blue')\n",
        "plt.plot(y_test_pred[:50], color='red')\n",
        "plt.show()"
      ],
      "metadata": {
        "colab": {
          "base_uri": "https://localhost:8080/",
          "height": 265
        },
        "id": "kLUfmzbbJHyk",
        "outputId": "685b94d9-dbdd-4ff4-e0d1-65a8841374c4"
      },
      "execution_count": null,
      "outputs": [
        {
          "output_type": "display_data",
          "data": {
            "text/plain": [
              "<Figure size 432x288 with 1 Axes>"
            ],
            "image/png": "[encoded data removed]"
          },
          "metadata": {
            "needs_background": "light"
          }
        }
      ]
    },
    {
      "cell_type": "markdown",
      "source": [
        "# Stepwise Regression"
      ],
      "metadata": {
        "id": "iahVnKDXfsTn"
      }
    },
    {
      "cell_type": "code",
      "source": [
        "# implement stepwise regression\n",
        "def update_model(model, mae, incl_features, X_train, y_train, X_test, y_test):\n",
        "    ''' Inputs:\n",
        "            model -> best model so far\n",
        "            mae -> best mae so far\n",
        "            incl_features -> indices of features included in the current model\n",
        "            X_train -> train features\n",
        "            y_train -> train labels\n",
        "            X_test -> test features\n",
        "            y_test -> test labels\n",
        "        \n",
        "        Outputs:\n",
        "            model -> best model found\n",
        "            mae -> best mse found\n",
        "            incl_features -> indices of features included in the best model found\n",
        "    '''\n",
        "    to_try = [x for x in range(len(X_train[0])) if x not in incl_features]\n",
        "    best_feature = None\n",
        "    for x in to_try:\n",
        "        if len(incl_features) == 0:\n",
        "            rdg = Ridge().fit(X_train[:, x].reshape(-1, 1), y_train)\n",
        "            y_test_pred = rdg.predict(X_test[:, x].reshape(-1, 1))\n",
        "        else:\n",
        "            features = np.sort(incl_features + [x]).tolist()\n",
        "            rdg = Ridge().fit(X_train[:, features].reshape((X_train.shape[0], len(features))), y_train)\n",
        "            y_test_pred = rdg.predict(X_test[:, features].reshape((X_test.shape[0], len(features))))\n",
        "\n",
        "        rdg_test_mae = mean_absolute_error(y_test, y_test_pred)\n",
        "        if rdg_test_mae < mae:\n",
        "            mae = rdg_test_mae\n",
        "            model = rdg\n",
        "            best_feature = x\n",
        "    \n",
        "    if best_feature != None:\n",
        "        if len(incl_features) == 0:\n",
        "            incl_features = [best_feature]\n",
        "        else:\n",
        "            incl_features = incl_features + [best_feature]\n",
        "\n",
        "    return model, mae, incl_features\n",
        "    \n",
        "\n",
        "\n",
        "def stepwise_regression(X_train, y_train, X_test, y_test, tol):\n",
        "    ''' Inputs:\n",
        "            X_train -> trainfeatures\n",
        "            y_train -> train labels\n",
        "            X_test -> test features\n",
        "            y_test -> test labels\n",
        "            tol -> tolerance\n",
        "        \n",
        "        Outputs:\n",
        "            model -> best model found\n",
        "\n",
        "    '''\n",
        "    losses = []\n",
        "    prev_incl_features = None\n",
        "    incl_features = []\n",
        "    order_added = []\n",
        "    model = Ridge().fit(np.ones((y_train.shape[0], 1)), y_train)\n",
        "    y_test_pred = model.predict(np.ones((y_test.shape[0], 1)))\n",
        "    mae = mean_absolute_error(y_test, y_test_pred)\n",
        "\n",
        "    while len(losses) == 0 or (prev_incl_features != incl_features and losses[-1] - mae >= tol):\n",
        "        prev_incl_features = incl_features\n",
        "        losses.append(mae)\n",
        "        model, mae, incl_features = update_model(model, mae, incl_features, X_train, y_train, X_test, y_test)\n",
        "        order_added = order_added + [incl_features[-1]]\n",
        "    \n",
        "    losses.append(mae)\n",
        "\n",
        "    return model, order_added, losses"
      ],
      "metadata": {
        "id": "qdfN1YfefyS-"
      },
      "execution_count": null,
      "outputs": []
    },
    {
      "cell_type": "code",
      "source": [
        "# train and test stepwise regression\n",
        "stp, order_added, losses = stepwise_regression(X_train[:int(X_train.shape[0] * 0.8)], y_train[:int(X_train.shape[0] * 0.8)], X_train[int(X_train.shape[0] * 0.8):], y_train[int(X_train.shape[0] * 0.8):], .01)\n",
        "\n",
        "to_select = np.sort(order_added).tolist()\n",
        "stp = Ridge().fit(X_train[:, to_select].reshape((X_train.shape[0], len(to_select))), y_train)\n",
        "\n",
        "y_train_pred = stp.predict(X_train[:, to_select].reshape((X_train.shape[0], len(to_select))))\n",
        "y_test_pred = stp.predict(X_test[:, to_select].reshape((X_test.shape[0], len(to_select))))\n",
        "\n",
        "stp_train_mae = mean_absolute_error(y_train, y_train_pred)\n",
        "stp_test_mae = mean_absolute_error(y_test, y_test_pred)\n",
        "\n",
        "print('Inlcuded features are: %s' % order_added)\n",
        "print('Train MAE is: %s' % stp_train_mae)\n",
        "print('Test MAE is: %s' % stp_test_mae)"
      ],
      "metadata": {
        "colab": {
          "base_uri": "https://localhost:8080/"
        },
        "id": "SwutQop-10_0",
        "outputId": "2fb0f752-1b26-487f-f07c-9215fa3795a2"
      },
      "execution_count": null,
      "outputs": [
        {
          "output_type": "stream",
          "name": "stdout",
          "text": [
            "Inlcuded features are: [12, 0, 10, 8, 105, 2, 6, 116, 4]\n",
            "Train MAE is: 11.080777694899679\n",
            "Test MAE is: 11.325592150929861\n"
          ]
        }
      ]
    },
    {
      "cell_type": "code",
      "source": [
        "# visualize predictions\n",
        "plt.plot(y_test[:50], color='blue')\n",
        "plt.plot(y_test_pred[:50], color='red')\n",
        "plt.show()"
      ],
      "metadata": {
        "id": "6-Vw0ng42Q6y",
        "colab": {
          "base_uri": "https://localhost:8080/",
          "height": 265
        },
        "outputId": "1b971873-8540-4ea5-98f6-3fe941323ce4"
      },
      "execution_count": null,
      "outputs": [
        {
          "output_type": "display_data",
          "data": {
            "text/plain": [
              "<Figure size 432x288 with 1 Axes>"
            ],
            "image/png": "[encoded data removed]"
          },
          "metadata": {
            "needs_background": "light"
          }
        }
      ]
    },
    {
      "cell_type": "code",
      "source": [
        "# visualize losses\n",
        "plt.plot(losses)\n",
        "plt.xlabel('Number of features')\n",
        "plt.ylabel('Loss')\n",
        "plt.title('Loss vs Number of Features')\n",
        "plt.show()"
      ],
      "metadata": {
        "colab": {
          "base_uri": "https://localhost:8080/",
          "height": 295
        },
        "id": "yqFv0nfjI6XH",
        "outputId": "41bbb161-c51d-4e34-ea88-d4cce51f683b"
      },
      "execution_count": null,
      "outputs": [
        {
          "output_type": "display_data",
          "data": {
            "text/plain": [
              "<Figure size 432x288 with 1 Axes>"
            ],
            "image/png": "[encoded data removed]"
          },
          "metadata": {
            "needs_background": "light"
          }
        }
      ]
    },
    {
      "cell_type": "code",
      "source": [
        "# view selected features\n",
        "for x in order_added:\n",
        "    print(data_df.columns.values[x+1])"
      ],
      "metadata": {
        "colab": {
          "base_uri": "https://localhost:8080/"
        },
        "id": "w_s0WgRAJ6XI",
        "outputId": "0cbdce5e-060a-4147-d27b-d4c715a35fa3"
      },
      "execution_count": null,
      "outputs": [
        {
          "output_type": "stream",
          "name": "stdout",
          "text": [
            "cases_7\n",
            "cases_1\n",
            "cases_6\n",
            "cases_5\n",
            "Population raw value\n",
            "cases_2\n",
            "cases_4\n",
            "% Rural raw value\n",
            "cases_3\n"
          ]
        }
      ]
    }
  ]
}